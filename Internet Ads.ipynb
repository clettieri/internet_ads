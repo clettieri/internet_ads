{
 "cells": [
  {
   "cell_type": "markdown",
   "metadata": {},
   "source": [
    "# Internet Ads - Hedgeable Data Science Challenge\n",
    "by Christopher Lettieri  \n",
    "\n",
    "### Understanding the Question\n",
    "\n",
    "Given a dataset encoding 1,558 features determine whether an image is an ad or a non ad image.  This is a supervised classification problem.\n",
    "\n",
    "### Load & Inspect Data\n",
    "\n",
    "Using some custom functions I wrote in 'data_functions.py' I will load the dataset and begin to explore."
   ]
  },
  {
   "cell_type": "code",
   "execution_count": 1,
   "metadata": {
    "collapsed": false
   },
   "outputs": [
    {
     "data": {
      "text/html": [
       "<div>\n",
       "<table border=\"1\" class=\"dataframe\">\n",
       "  <thead>\n",
       "    <tr style=\"text-align: right;\">\n",
       "      <th></th>\n",
       "      <th>height</th>\n",
       "      <th>width</th>\n",
       "      <th>aratio</th>\n",
       "      <th>local</th>\n",
       "      <th>url*images+buttons</th>\n",
       "      <th>url*likesbooks.com</th>\n",
       "      <th>url*www.slake.com</th>\n",
       "      <th>url*hydrogeologist</th>\n",
       "      <th>url*oso</th>\n",
       "      <th>url*media</th>\n",
       "      <th>...</th>\n",
       "      <th>caption*home</th>\n",
       "      <th>caption*my</th>\n",
       "      <th>caption*your</th>\n",
       "      <th>caption*in</th>\n",
       "      <th>caption*bytes</th>\n",
       "      <th>caption*here</th>\n",
       "      <th>caption*click</th>\n",
       "      <th>caption*for</th>\n",
       "      <th>caption*you</th>\n",
       "      <th>is_ad</th>\n",
       "    </tr>\n",
       "  </thead>\n",
       "  <tbody>\n",
       "    <tr>\n",
       "      <th>0</th>\n",
       "      <td>125.0</td>\n",
       "      <td>125.0</td>\n",
       "      <td>1.0000</td>\n",
       "      <td>1.0</td>\n",
       "      <td>0</td>\n",
       "      <td>0</td>\n",
       "      <td>0</td>\n",
       "      <td>0</td>\n",
       "      <td>0</td>\n",
       "      <td>0</td>\n",
       "      <td>...</td>\n",
       "      <td>0</td>\n",
       "      <td>0</td>\n",
       "      <td>0</td>\n",
       "      <td>0</td>\n",
       "      <td>0</td>\n",
       "      <td>0</td>\n",
       "      <td>0</td>\n",
       "      <td>0</td>\n",
       "      <td>0</td>\n",
       "      <td>1</td>\n",
       "    </tr>\n",
       "    <tr>\n",
       "      <th>1</th>\n",
       "      <td>57.0</td>\n",
       "      <td>468.0</td>\n",
       "      <td>8.2105</td>\n",
       "      <td>1.0</td>\n",
       "      <td>0</td>\n",
       "      <td>0</td>\n",
       "      <td>0</td>\n",
       "      <td>0</td>\n",
       "      <td>0</td>\n",
       "      <td>0</td>\n",
       "      <td>...</td>\n",
       "      <td>0</td>\n",
       "      <td>0</td>\n",
       "      <td>0</td>\n",
       "      <td>0</td>\n",
       "      <td>0</td>\n",
       "      <td>0</td>\n",
       "      <td>0</td>\n",
       "      <td>0</td>\n",
       "      <td>0</td>\n",
       "      <td>1</td>\n",
       "    </tr>\n",
       "    <tr>\n",
       "      <th>2</th>\n",
       "      <td>33.0</td>\n",
       "      <td>230.0</td>\n",
       "      <td>6.9696</td>\n",
       "      <td>1.0</td>\n",
       "      <td>0</td>\n",
       "      <td>0</td>\n",
       "      <td>0</td>\n",
       "      <td>0</td>\n",
       "      <td>0</td>\n",
       "      <td>0</td>\n",
       "      <td>...</td>\n",
       "      <td>0</td>\n",
       "      <td>0</td>\n",
       "      <td>0</td>\n",
       "      <td>0</td>\n",
       "      <td>0</td>\n",
       "      <td>0</td>\n",
       "      <td>0</td>\n",
       "      <td>0</td>\n",
       "      <td>0</td>\n",
       "      <td>1</td>\n",
       "    </tr>\n",
       "    <tr>\n",
       "      <th>3</th>\n",
       "      <td>60.0</td>\n",
       "      <td>468.0</td>\n",
       "      <td>7.8000</td>\n",
       "      <td>1.0</td>\n",
       "      <td>0</td>\n",
       "      <td>0</td>\n",
       "      <td>0</td>\n",
       "      <td>0</td>\n",
       "      <td>0</td>\n",
       "      <td>0</td>\n",
       "      <td>...</td>\n",
       "      <td>0</td>\n",
       "      <td>0</td>\n",
       "      <td>0</td>\n",
       "      <td>0</td>\n",
       "      <td>0</td>\n",
       "      <td>0</td>\n",
       "      <td>0</td>\n",
       "      <td>0</td>\n",
       "      <td>0</td>\n",
       "      <td>1</td>\n",
       "    </tr>\n",
       "    <tr>\n",
       "      <th>4</th>\n",
       "      <td>60.0</td>\n",
       "      <td>468.0</td>\n",
       "      <td>7.8000</td>\n",
       "      <td>1.0</td>\n",
       "      <td>0</td>\n",
       "      <td>0</td>\n",
       "      <td>0</td>\n",
       "      <td>0</td>\n",
       "      <td>0</td>\n",
       "      <td>0</td>\n",
       "      <td>...</td>\n",
       "      <td>0</td>\n",
       "      <td>0</td>\n",
       "      <td>0</td>\n",
       "      <td>0</td>\n",
       "      <td>0</td>\n",
       "      <td>0</td>\n",
       "      <td>0</td>\n",
       "      <td>0</td>\n",
       "      <td>0</td>\n",
       "      <td>1</td>\n",
       "    </tr>\n",
       "  </tbody>\n",
       "</table>\n",
       "<p>5 rows × 1559 columns</p>\n",
       "</div>"
      ],
      "text/plain": [
       "   height  width  aratio  local  url*images+buttons  url*likesbooks.com  \\\n",
       "0   125.0  125.0  1.0000    1.0                   0                   0   \n",
       "1    57.0  468.0  8.2105    1.0                   0                   0   \n",
       "2    33.0  230.0  6.9696    1.0                   0                   0   \n",
       "3    60.0  468.0  7.8000    1.0                   0                   0   \n",
       "4    60.0  468.0  7.8000    1.0                   0                   0   \n",
       "\n",
       "   url*www.slake.com  url*hydrogeologist  url*oso  url*media  ...    \\\n",
       "0                  0                   0        0          0  ...     \n",
       "1                  0                   0        0          0  ...     \n",
       "2                  0                   0        0          0  ...     \n",
       "3                  0                   0        0          0  ...     \n",
       "4                  0                   0        0          0  ...     \n",
       "\n",
       "   caption*home  caption*my  caption*your  caption*in  caption*bytes  \\\n",
       "0             0           0             0           0              0   \n",
       "1             0           0             0           0              0   \n",
       "2             0           0             0           0              0   \n",
       "3             0           0             0           0              0   \n",
       "4             0           0             0           0              0   \n",
       "\n",
       "   caption*here  caption*click  caption*for  caption*you  is_ad  \n",
       "0             0              0            0            0      1  \n",
       "1             0              0            0            0      1  \n",
       "2             0              0            0            0      1  \n",
       "3             0              0            0            0      1  \n",
       "4             0              0            0            0      1  \n",
       "\n",
       "[5 rows x 1559 columns]"
      ]
     },
     "execution_count": 1,
     "metadata": {},
     "output_type": "execute_result"
    }
   ],
   "source": [
    "import pandas as pd\n",
    "import numpy as np\n",
    "from data_functions import load_data_with_col_names\n",
    "\n",
    "df = load_data_with_col_names('data.csv', 'column.names.txt')\n",
    "df.head()"
   ]
  },
  {
   "cell_type": "code",
   "execution_count": 2,
   "metadata": {
    "collapsed": false
   },
   "outputs": [
    {
     "data": {
      "text/plain": [
       "height                       903\n",
       "width                        901\n",
       "aratio                       910\n",
       "local                         15\n",
       "url*images+buttons             0\n",
       "url*likesbooks.com             0\n",
       "url*www.slake.com              0\n",
       "url*hydrogeologist             0\n",
       "url*oso                        0\n",
       "url*media                      0\n",
       "url*peace+images               0\n",
       "url*blipverts                  0\n",
       "url*tkaine+kats                0\n",
       "url*labyrinth                  0\n",
       "url*advertising+blipverts      0\n",
       "url*images+oso                 0\n",
       "url*area51+corridor            0\n",
       "url*ran+gifs                   0\n",
       "url*express-scripts.com        0\n",
       "url*off                        0\n",
       "url*cnet                       0\n",
       "url*time+1998                  0\n",
       "url*josefina3                  0\n",
       "url*truluck.com                0\n",
       "url*clawnext+gif               0\n",
       "url*autopen.com                0\n",
       "url*tvgen.com                  0\n",
       "url*pixs                       0\n",
       "url*heartland+5309             0\n",
       "url*meadows+9196               0\n",
       "                            ... \n",
       "alt*award                      0\n",
       "alt*services                   0\n",
       "alt*about                      0\n",
       "alt*for                        0\n",
       "alt*here+to                    0\n",
       "alt*network                    0\n",
       "alt*you                        0\n",
       "alt*logo                       0\n",
       "alt*home                       0\n",
       "alt*kat                        0\n",
       "caption*and                    0\n",
       "caption*home+page              0\n",
       "caption*click+here             0\n",
       "caption*the                    0\n",
       "caption*pratchett              0\n",
       "caption*here+for               0\n",
       "caption*site                   0\n",
       "caption*page                   0\n",
       "caption*to                     0\n",
       "caption*of                     0\n",
       "caption*home                   0\n",
       "caption*my                     0\n",
       "caption*your                   0\n",
       "caption*in                     0\n",
       "caption*bytes                  0\n",
       "caption*here                   0\n",
       "caption*click                  0\n",
       "caption*for                    0\n",
       "caption*you                    0\n",
       "is_ad                          0\n",
       "dtype: int64"
      ]
     },
     "execution_count": 2,
     "metadata": {},
     "output_type": "execute_result"
    }
   ],
   "source": [
    "#Check for missing values\n",
    "df.isnull().sum()"
   ]
  },
  {
   "cell_type": "code",
   "execution_count": 3,
   "metadata": {
    "collapsed": false
   },
   "outputs": [
    {
     "data": {
      "text/plain": [
       "0"
      ]
     },
     "execution_count": 3,
     "metadata": {},
     "output_type": "execute_result"
    }
   ],
   "source": [
    "#Check if any non-numeric columns\n",
    "df.select_dtypes(exclude=[np.number]).shape[1]"
   ]
  },
  {
   "cell_type": "markdown",
   "metadata": {},
   "source": [
    "### Data Exploration\n",
    "\n",
    "The project description says that we have 1,558 features.  Only 3 features are continuous, the rest are binary.  Let's explore some of these continuous features to get a feel for the data."
   ]
  },
  {
   "cell_type": "code",
   "execution_count": 4,
   "metadata": {
    "collapsed": false
   },
   "outputs": [
    {
     "data": {
      "text/plain": [
       "<seaborn.axisgrid.PairGrid at 0xc901d68>"
      ]
     },
     "execution_count": 4,
     "metadata": {},
     "output_type": "execute_result"
    },
    {
     "data": {
      "image/png": "[encoded data removed]",
      "text/plain": [
       "<matplotlib.figure.Figure at 0xbfc0a20>"
      ]
     },
     "metadata": {},
     "output_type": "display_data"
    }
   ],
   "source": [
    "%matplotlib inline \n",
    "import seaborn as sns\n",
    "\n",
    "continous_cols = ['height', 'width', 'aratio']\n",
    "#Temporarily drop NaN to create the plot\n",
    "sns.pairplot(df[continous_cols+['is_ad']].dropna(), hue=\"is_ad\")"
   ]
  },
  {
   "cell_type": "markdown",
   "metadata": {},
   "source": [
    "The pairplot above is showing that there is a tendency for ads to have a larger height and smaller aspect ratio than non ads.  This visualziation is leading me to belive that width and especially height and aspect ratio will have predictive power in my final model.\n",
    "\n",
    "### Exploring non-continous features\n",
    "\n",
    "Since we have 1,555 binary variables I will attempt to explore only the most significant features.  I will determine significance for a feature by seeing what % that feature tests positive for either class.  My thinking here is a lot of features have very few samples that test positive in either case, relative to the total training set.  To reduce the noise in this dataset I want to select only the features that have a decent sample size for either the ad class or non ad class.\n",
    "\n",
    "There are 3,279 instances (2820 are non ads, and 459 are ads) -Note-the instructions say 2821 and 458, but my findings differ here by 1.  I will group the data by whether an ad or non ad, then sum the positive instances for each feature.  From there I will determine the % of positive samples given the total size of each class, and then select only those columns that have a significant number of samples and relatively big difference between the two classes."
   ]
  },
  {
   "cell_type": "code",
   "execution_count": 11,
   "metadata": {
    "collapsed": false
   },
   "outputs": [
    {
     "data": {
      "text/html": [
       "<div>\n",
       "<table border=\"1\" class=\"dataframe\">\n",
       "  <thead>\n",
       "    <tr style=\"text-align: right;\">\n",
       "      <th></th>\n",
       "      <th>local</th>\n",
       "      <th>url*images+buttons</th>\n",
       "      <th>url*likesbooks.com</th>\n",
       "      <th>url*www.slake.com</th>\n",
       "      <th>url*hydrogeologist</th>\n",
       "      <th>url*oso</th>\n",
       "      <th>url*media</th>\n",
       "      <th>url*peace+images</th>\n",
       "      <th>url*blipverts</th>\n",
       "      <th>url*tkaine+kats</th>\n",
       "      <th>...</th>\n",
       "      <th>caption*of</th>\n",
       "      <th>caption*home</th>\n",
       "      <th>caption*my</th>\n",
       "      <th>caption*your</th>\n",
       "      <th>caption*in</th>\n",
       "      <th>caption*bytes</th>\n",
       "      <th>caption*here</th>\n",
       "      <th>caption*click</th>\n",
       "      <th>caption*for</th>\n",
       "      <th>caption*you</th>\n",
       "    </tr>\n",
       "  </thead>\n",
       "  <tbody>\n",
       "    <tr>\n",
       "      <th>0</th>\n",
       "      <td>2152.000000</td>\n",
       "      <td>14.000000</td>\n",
       "      <td>38.000000</td>\n",
       "      <td>15.000000</td>\n",
       "      <td>11.000000</td>\n",
       "      <td>13.00000</td>\n",
       "      <td>8.000000</td>\n",
       "      <td>11.000000</td>\n",
       "      <td>0.000000</td>\n",
       "      <td>30.000000</td>\n",
       "      <td>...</td>\n",
       "      <td>20.000000</td>\n",
       "      <td>15.000000</td>\n",
       "      <td>12.000000</td>\n",
       "      <td>4.000000</td>\n",
       "      <td>6.000000</td>\n",
       "      <td>21.000000</td>\n",
       "      <td>7.000000</td>\n",
       "      <td>7.000000</td>\n",
       "      <td>14.000000</td>\n",
       "      <td>3.000000</td>\n",
       "    </tr>\n",
       "    <tr>\n",
       "      <th>1</th>\n",
       "      <td>352.000000</td>\n",
       "      <td>0.000000</td>\n",
       "      <td>0.000000</td>\n",
       "      <td>0.000000</td>\n",
       "      <td>0.000000</td>\n",
       "      <td>0.00000</td>\n",
       "      <td>30.000000</td>\n",
       "      <td>0.000000</td>\n",
       "      <td>16.000000</td>\n",
       "      <td>0.000000</td>\n",
       "      <td>...</td>\n",
       "      <td>0.000000</td>\n",
       "      <td>0.000000</td>\n",
       "      <td>0.000000</td>\n",
       "      <td>4.000000</td>\n",
       "      <td>4.000000</td>\n",
       "      <td>0.000000</td>\n",
       "      <td>35.000000</td>\n",
       "      <td>37.000000</td>\n",
       "      <td>18.000000</td>\n",
       "      <td>2.000000</td>\n",
       "    </tr>\n",
       "    <tr>\n",
       "      <th>2</th>\n",
       "      <td>0.763121</td>\n",
       "      <td>0.004965</td>\n",
       "      <td>0.013475</td>\n",
       "      <td>0.005319</td>\n",
       "      <td>0.003901</td>\n",
       "      <td>0.00461</td>\n",
       "      <td>0.002837</td>\n",
       "      <td>0.003901</td>\n",
       "      <td>0.000000</td>\n",
       "      <td>0.010638</td>\n",
       "      <td>...</td>\n",
       "      <td>0.007092</td>\n",
       "      <td>0.005319</td>\n",
       "      <td>0.004255</td>\n",
       "      <td>0.001418</td>\n",
       "      <td>0.002128</td>\n",
       "      <td>0.007447</td>\n",
       "      <td>0.002482</td>\n",
       "      <td>0.002482</td>\n",
       "      <td>0.004965</td>\n",
       "      <td>0.001064</td>\n",
       "    </tr>\n",
       "    <tr>\n",
       "      <th>3</th>\n",
       "      <td>0.766885</td>\n",
       "      <td>0.000000</td>\n",
       "      <td>0.000000</td>\n",
       "      <td>0.000000</td>\n",
       "      <td>0.000000</td>\n",
       "      <td>0.00000</td>\n",
       "      <td>0.065359</td>\n",
       "      <td>0.000000</td>\n",
       "      <td>0.034858</td>\n",
       "      <td>0.000000</td>\n",
       "      <td>...</td>\n",
       "      <td>0.000000</td>\n",
       "      <td>0.000000</td>\n",
       "      <td>0.000000</td>\n",
       "      <td>0.008715</td>\n",
       "      <td>0.008715</td>\n",
       "      <td>0.000000</td>\n",
       "      <td>0.076253</td>\n",
       "      <td>0.080610</td>\n",
       "      <td>0.039216</td>\n",
       "      <td>0.004357</td>\n",
       "    </tr>\n",
       "    <tr>\n",
       "      <th>4</th>\n",
       "      <td>0.766885</td>\n",
       "      <td>0.004965</td>\n",
       "      <td>0.013475</td>\n",
       "      <td>0.005319</td>\n",
       "      <td>0.003901</td>\n",
       "      <td>0.00461</td>\n",
       "      <td>0.065359</td>\n",
       "      <td>0.003901</td>\n",
       "      <td>0.034858</td>\n",
       "      <td>0.010638</td>\n",
       "      <td>...</td>\n",
       "      <td>0.007092</td>\n",
       "      <td>0.005319</td>\n",
       "      <td>0.004255</td>\n",
       "      <td>0.008715</td>\n",
       "      <td>0.008715</td>\n",
       "      <td>0.007447</td>\n",
       "      <td>0.076253</td>\n",
       "      <td>0.080610</td>\n",
       "      <td>0.039216</td>\n",
       "      <td>0.004357</td>\n",
       "    </tr>\n",
       "  </tbody>\n",
       "</table>\n",
       "<p>5 rows × 1555 columns</p>\n",
       "</div>"
      ],
      "text/plain": [
       "         local  url*images+buttons  url*likesbooks.com  url*www.slake.com  \\\n",
       "0  2152.000000           14.000000           38.000000          15.000000   \n",
       "1   352.000000            0.000000            0.000000           0.000000   \n",
       "2     0.763121            0.004965            0.013475           0.005319   \n",
       "3     0.766885            0.000000            0.000000           0.000000   \n",
       "4     0.766885            0.004965            0.013475           0.005319   \n",
       "\n",
       "   url*hydrogeologist   url*oso  url*media  url*peace+images  url*blipverts  \\\n",
       "0           11.000000  13.00000   8.000000         11.000000       0.000000   \n",
       "1            0.000000   0.00000  30.000000          0.000000      16.000000   \n",
       "2            0.003901   0.00461   0.002837          0.003901       0.000000   \n",
       "3            0.000000   0.00000   0.065359          0.000000       0.034858   \n",
       "4            0.003901   0.00461   0.065359          0.003901       0.034858   \n",
       "\n",
       "   url*tkaine+kats     ...       caption*of  caption*home  caption*my  \\\n",
       "0        30.000000     ...        20.000000     15.000000   12.000000   \n",
       "1         0.000000     ...         0.000000      0.000000    0.000000   \n",
       "2         0.010638     ...         0.007092      0.005319    0.004255   \n",
       "3         0.000000     ...         0.000000      0.000000    0.000000   \n",
       "4         0.010638     ...         0.007092      0.005319    0.004255   \n",
       "\n",
       "   caption*your  caption*in  caption*bytes  caption*here  caption*click  \\\n",
       "0      4.000000    6.000000      21.000000      7.000000       7.000000   \n",
       "1      4.000000    4.000000       0.000000     35.000000      37.000000   \n",
       "2      0.001418    0.002128       0.007447      0.002482       0.002482   \n",
       "3      0.008715    0.008715       0.000000      0.076253       0.080610   \n",
       "4      0.008715    0.008715       0.007447      0.076253       0.080610   \n",
       "\n",
       "   caption*for  caption*you  \n",
       "0    14.000000     3.000000  \n",
       "1    18.000000     2.000000  \n",
       "2     0.004965     0.001064  \n",
       "3     0.039216     0.004357  \n",
       "4     0.039216     0.004357  \n",
       "\n",
       "[5 rows x 1555 columns]"
      ]
     },
     "execution_count": 11,
     "metadata": {},
     "output_type": "execute_result"
    }
   ],
   "source": [
    "#Group non-continous columns by label\n",
    "grouped_df = df.drop(continous_cols, axis=1).groupby('is_ad').sum()\n",
    "\n",
    "#Append new rows to calculate % of each class this feature tests positive for\n",
    "grouped_df = grouped_df.append(grouped_df.iloc[0]/2820) #percentage of non ad\n",
    "grouped_df = grouped_df.append(grouped_df.iloc[1]/459) #percentage of ad\n",
    "#Append row that is max % of either class for that feature (used to filter)\n",
    "grouped_df = grouped_df.append(grouped_df.iloc[2:].max(), ignore_index=True) \n",
    "\n",
    "grouped_df.head()"
   ]
  },
  {
   "cell_type": "code",
   "execution_count": 12,
   "metadata": {
    "collapsed": false
   },
   "outputs": [
    {
     "data": {
      "text/plain": [
       "0.10    0.003546\n",
       "0.25    0.004357\n",
       "0.50    0.007092\n",
       "0.75    0.021786\n",
       "0.90    0.032680\n",
       "Name: 4, dtype: float64"
      ]
     },
     "execution_count": 12,
     "metadata": {},
     "output_type": "execute_result"
    }
   ],
   "source": [
    "#Explore the distribution of % belonging to a class for each feature\n",
    "grouped_df.iloc[4].quantile([.1,.25,.5,.75,.9])"
   ]
  },
  {
   "cell_type": "code",
   "execution_count": 14,
   "metadata": {
    "collapsed": false
   },
   "outputs": [
    {
     "data": {
      "text/plain": [
       "150"
      ]
     },
     "execution_count": 14,
     "metadata": {},
     "output_type": "execute_result"
    }
   ],
   "source": [
    "#Get list of columns of only significantly utilized features\n",
    "def get_column_list_at_threshold(df, min_threshold):\n",
    "    '''(DataFrame, float) -> list\n",
    "    \n",
    "    Given the grouped dataframe and a minimum threshold, get\n",
    "    a list of column names that have >= the % of positive samples\n",
    "    as the minimum threshold.\n",
    "    '''\n",
    "    cols = df.iloc[4] >= min_threshold\n",
    "    col_list = cols[cols==True].index.tolist()\n",
    "    return col_list\n",
    "\n",
    "sig_cols_75 = get_column_list_at_threshold(grouped_df, 0.021786)\n",
    "sig_cols_90 = get_column_list_at_threshold(grouped_df, 0.03268)\n",
    "len(sig_cols_90)"
   ]
  },
  {
   "cell_type": "markdown",
   "metadata": {},
   "source": [
    "So now I have 3 sets of features to test a model with.  The above was essentialy a manual way of doing some dimensionality reduction.  The assumption behind this is that fewer features may lead to a more robust model.\n",
    "\n",
    "### Prepare Data for Modeling\n",
    "\n",
    "First I will split the data into a training and testing set.  I use a stratified train/test split to ensure that the classes are evenly distributed between training and testing sets."
   ]
  },
  {
   "cell_type": "code",
   "execution_count": 18,
   "metadata": {
    "collapsed": false
   },
   "outputs": [],
   "source": [
    "from sklearn.model_selection import train_test_split\n",
    "\n",
    "#Get full features\n",
    "X = df.drop('is_ad', axis=1).values\n",
    "y = df['is_ad'].values\n",
    "X_train_full, X_test_full, y_train_full, y_test_full = train_test_split(X, y, train_size=.8, \n",
    "                                                                        test_size=.2, stratify=y)"
   ]
  },
  {
   "cell_type": "code",
   "execution_count": 32,
   "metadata": {
    "collapsed": false
   },
   "outputs": [],
   "source": [
    "#Get top 25% of features\n",
    "X = df[sig_cols_75].values\n",
    "y = df['is_ad'].values\n",
    "X_train_75, X_test_75, y_train_75, y_test_75 = train_test_split(X, y, train_size=.8, \n",
    "                                                                test_size=.2, stratify=y)"
   ]
  },
  {
   "cell_type": "code",
   "execution_count": 25,
   "metadata": {
    "collapsed": true
   },
   "outputs": [],
   "source": [
    "#Get top 10% of features\n",
    "X = df[sig_cols_90].values\n",
    "y = df['is_ad'].values\n",
    "X_train_90, X_test_90, y_train_90, y_test_90 = train_test_split(X, y, train_size=.8, \n",
    "                                                                test_size=.2, stratify=y)"
   ]
  },
  {
   "cell_type": "markdown",
   "metadata": {},
   "source": [
    "### Modeling\n",
    "\n",
    "Here I will first cross-validate my training set with a few different approaches to this problem.  Then I will select one model and tune it.  Also I use SkLearn's Imputer class to impute the missing values of the continuous features."
   ]
  },
  {
   "cell_type": "code",
   "execution_count": 28,
   "metadata": {
    "collapsed": false
   },
   "outputs": [
    {
     "name": "stdout",
     "output_type": "stream",
     "text": [
      "0.97330422812\n"
     ]
    }
   ],
   "source": [
    "from sklearn.ensemble import RandomForestClassifier\n",
    "from sklearn.model_selection import StratifiedKFold, cross_val_score\n",
    "from sklearn.pipeline import Pipeline\n",
    "from sklearn.preprocessing import Imputer\n",
    "\n",
    "#Random Forest - ALL Features\n",
    "#Initialize Model\n",
    "clf = Pipeline([(\"imputer\", Imputer(strategy=\"median\", axis=0)),\n",
    "                (\"rf\", RandomForestClassifier(random_state=5, n_estimators=100))])\n",
    "#Create KFold\n",
    "skf = StratifiedKFold(n_splits=5, random_state=5)\n",
    "#Cross Val\n",
    "cross_val_results = cross_val_score(clf, X_train_full, y_train_full, cv=skf, scoring='accuracy')\n",
    "print cross_val_results.mean()"
   ]
  },
  {
   "cell_type": "code",
   "execution_count": 33,
   "metadata": {
    "collapsed": false
   },
   "outputs": [
    {
     "name": "stdout",
     "output_type": "stream",
     "text": [
      "0.963780385425\n"
     ]
    }
   ],
   "source": [
    "#Random Forest - Top 25% Features\n",
    "#Initialize Model\n",
    "clf = Pipeline([(\"imputer\", Imputer(strategy=\"median\", axis=0)),\n",
    "                (\"rf\", RandomForestClassifier(random_state=5, n_estimators=100))])\n",
    "#Create KFold\n",
    "skf = StratifiedKFold(n_splits=5, random_state=5)\n",
    "#Cross Val\n",
    "cross_val_results = cross_val_score(clf, X_train_75, y_train_75, cv=skf, scoring='accuracy')\n",
    "print cross_val_results.mean()"
   ]
  },
  {
   "cell_type": "code",
   "execution_count": 30,
   "metadata": {
    "collapsed": false
   },
   "outputs": [
    {
     "name": "stdout",
     "output_type": "stream",
     "text": [
      "0.961483058356\n"
     ]
    }
   ],
   "source": [
    "#Random Forest - Top 10% Features\n",
    "#Initialize Model\n",
    "clf = Pipeline([(\"imputer\", Imputer(strategy=\"median\", axis=0)),\n",
    "                (\"rf\", RandomForestClassifier(random_state=5, n_estimators=100))])\n",
    "#Create KFold\n",
    "skf = StratifiedKFold(n_splits=5, random_state=5)\n",
    "#Cross Val\n",
    "cross_val_results = cross_val_score(clf, X_train_90, y_train_90, cv=skf, scoring='accuracy')\n",
    "print cross_val_results.mean()"
   ]
  },
  {
   "cell_type": "markdown",
   "metadata": {},
   "source": [
    "### Tune Model\n",
    "\n",
    "So it seems my idea of manually reducing features hasn't helped to improve the model.  Given the scope of time on this project I will just move forward with a basic decision tree on the full data set.  Now I will use GridSearch to tune the model before building a final model to test."
   ]
  },
  {
   "cell_type": "code",
   "execution_count": 37,
   "metadata": {
    "collapsed": true
   },
   "outputs": [],
   "source": [
    "#First need Impute the missing values and fill them in so GridSearch will work\n",
    "imp = Imputer(strategy=\"median\", axis=0)\n",
    "X_train_full_transformed = imp.fit_transform(X_train_full)"
   ]
  },
  {
   "cell_type": "code",
   "execution_count": 38,
   "metadata": {
    "collapsed": false
   },
   "outputs": [
    {
     "name": "stdout",
     "output_type": "stream",
     "text": [
      "Best Score: 0.974457\n",
      "{'max_features': 'auto', 'min_samples_split': 4, 'criterion': 'gini'}\n"
     ]
    }
   ],
   "source": [
    "#Run GridSearchCV for optimal parameters\n",
    "from sklearn.model_selection import GridSearchCV\n",
    "\n",
    "param_grid = {\n",
    "    'min_samples_split' : [2, 4, 10, 20, 40],\n",
    "    'criterion' : ['gini', 'entropy'],\n",
    "    'max_features' : ['auto', 'log2', None]\n",
    "\n",
    "}\n",
    "\n",
    "#Initialize Model & Kfold\n",
    "rf = RandomForestClassifier(random_state=5, n_estimators=50)\n",
    "skf = StratifiedKFold(n_splits=3, random_state=5)\n",
    "#Initalize & Fit GridSearchCV\n",
    "grid_search = GridSearchCV(estimator=rf, param_grid=param_grid, cv=skf, scoring='accuracy')\n",
    "grid_search.fit(X_train_full_transformed, y_train_full)\n",
    "\n",
    "print \"Best Score: %f\" % grid_search.best_score_\n",
    "print grid_search.best_params_"
   ]
  },
  {
   "cell_type": "markdown",
   "metadata": {},
   "source": [
    "### Test Final Model\n",
    "\n",
    "Now we can train a final model using the optimal parameters.  I will also use a higher tree count since this model is only being trained once.  After fitting the model I will score it on the testing data."
   ]
  },
  {
   "cell_type": "code",
   "execution_count": 40,
   "metadata": {
    "collapsed": false
   },
   "outputs": [
    {
     "data": {
      "text/plain": [
       "RandomForestClassifier(bootstrap=True, class_weight=None, criterion='gini',\n",
       "            max_depth=None, max_features='auto', max_leaf_nodes=None,\n",
       "            min_impurity_split=1e-07, min_samples_leaf=1,\n",
       "            min_samples_split=4, min_weight_fraction_leaf=0.0,\n",
       "            n_estimators=1000, n_jobs=-1, oob_score=False,\n",
       "            random_state=None, verbose=0, warm_start=False)"
      ]
     },
     "execution_count": 40,
     "metadata": {},
     "output_type": "execute_result"
    }
   ],
   "source": [
    "#Build final model\n",
    "rf = RandomForestClassifier(n_estimators=1000, min_samples_split=4, criterion='gini', \n",
    "                            max_features='auto', n_jobs=-1)\n",
    "rf.fit(X_train_full_transformed, y_train_full)"
   ]
  },
  {
   "cell_type": "code",
   "execution_count": 43,
   "metadata": {
    "collapsed": false
   },
   "outputs": [
    {
     "name": "stdout",
     "output_type": "stream",
     "text": [
      "Model Accuracy: 0.980182926829\n"
     ]
    }
   ],
   "source": [
    "from sklearn.metrics import accuracy_score\n",
    "\n",
    "#First impute test set\n",
    "X_test_full_transformed = imp.fit_transform(X_test_full)\n",
    "\n",
    "#Make Predictions on test set\n",
    "predictions = rf.predict(X_test_full_transformed)\n",
    "\n",
    "score = accuracy_score(y_test_full, predictions)\n",
    "print \"Model Accuracy: \" + str(score)"
   ]
  },
  {
   "cell_type": "markdown",
   "metadata": {},
   "source": [
    "### Exporting the Model\n",
    "\n",
    "Using joblib from sklearn I will export the model.  Joblib is similar to pickle but according to the sklearn documentation, it is more efficient for objects that carry large numpy arrays internally (ie. our model)."
   ]
  },
  {
   "cell_type": "code",
   "execution_count": 45,
   "metadata": {
    "collapsed": false
   },
   "outputs": [
    {
     "data": {
      "text/plain": [
       "['final_model.pkl']"
      ]
     },
     "execution_count": 45,
     "metadata": {},
     "output_type": "execute_result"
    }
   ],
   "source": [
    "from sklearn.externals import joblib\n",
    "\n",
    "#Save the current model\n",
    "joblib.dump(rf, 'final_model.pkl') "
   ]
  },
  {
   "cell_type": "markdown",
   "metadata": {},
   "source": [
    "### Conclusion\n",
    "\n",
    "This final model scored a little over 98% accuracy on predicting whether an image is an ad or non ad from our testing set.  This was done with the full feature set and a lightly tuned random forest.  \n",
    "\n",
    "Given more time on this project some further steps I would explore are:  \n",
    "\n",
    "**New Features**  \n",
    "-Bool feature for containing NaN values or not  \n",
    "\n",
    "**Handling Missing Values**  \n",
    "-Impute using different metrics  \n",
    "-Impute by label distribution, not total distribution\n",
    "\n",
    "**Other ML Aproaches**  \n",
    "-XGBoost  \n",
    "-Ensembling several algorithms\n",
    "\n",
    "### Running this Model again\n",
    "\n",
    "I made a script called 'run_model.py' which by default will load a data file of the same structure and shape as the data set given, named 'data.csv', and will load the model from 'final_model.pkl'.  It will print out the accuracy score of this model on the new data set.  \n",
    "\n",
    "This model was built using:  \n",
    "Python 2.7.13  \n",
    "Sklearn 0.18.1  \n",
    "NumPy 1.11.3  \n",
    "Pandas 0.19.2  \n",
    "\n",
    "To simply re-use the model on your own, without my 'run_model.py' then use the following to load the model from the file I submitted:"
   ]
  },
  {
   "cell_type": "code",
   "execution_count": null,
   "metadata": {
    "collapsed": true
   },
   "outputs": [],
   "source": [
    "from sklearn.externals import joblib\n",
    "clf = joblib.load(file_name) #replace filename with 'final_model.pkl'"
   ]
  }
 ],
 "metadata": {
  "kernelspec": {
   "display_name": "Python 2",
   "language": "python",
   "name": "python2"
  },
  "language_info": {
   "codemirror_mode": {
    "name": "ipython",
    "version": 2
   },
   "file_extension": ".py",
   "mimetype": "text/x-python",
   "name": "python",
   "nbconvert_exporter": "python",
   "pygments_lexer": "ipython2",
   "version": "2.7.13"
  }
 },
 "nbformat": 4,
 "nbformat_minor": 2
}
